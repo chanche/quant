{
 "metadata": {
  "language_info": {
   "codemirror_mode": {
    "name": "ipython",
    "version": 3
   },
   "file_extension": ".py",
   "mimetype": "text/x-python",
   "name": "python",
   "nbconvert_exporter": "python",
   "pygments_lexer": "ipython3",
   "version": "3.8.5-final"
  },
  "orig_nbformat": 2,
  "kernelspec": {
   "name": "Python 3.8.5 64-bit",
   "display_name": "Python 3.8.5 64-bit",
   "metadata": {
    "interpreter": {
     "hash": "66a7cbd7c6c2fc81c2d026a9d0ff26f0e73a27ccfd6e590a4063288ce4b8cff5"
    }
   }
  }
 },
 "nbformat": 4,
 "nbformat_minor": 2,
 "cells": [
  {
   "cell_type": "code",
   "execution_count": 1,
   "metadata": {},
   "outputs": [],
   "source": [
    "from futu import *"
   ]
  },
  {
   "cell_type": "code",
   "execution_count": 9,
   "metadata": {},
   "outputs": [],
   "source": [
    "import pandas as pd"
   ]
  },
  {
   "source": [
    "quote_ctx = OpenQuoteContext(host='127.0.0.1', port=11111)\n",
    "ret, df_stock, page_req_key = quote_ctx.request_history_kline('HK.800000', start='2016-01-01', end='2020-10-01')  \n",
    "quote_ctx.close() "
   ],
   "cell_type": "code",
   "metadata": {
    "tags": []
   },
   "execution_count": 6,
   "outputs": [
    {
     "output_type": "stream",
     "name": "stderr",
     "text": "2020-10-07 05:57:54,353 [open_context_base.py] _socket_reconnect_and_wait_ready:255: Start connecting: host=127.0.0.1; port=11111;\n2020-10-07 05:57:54,355 [open_context_base.py] on_connected:344: Connected : conn_id=3; \n2020-10-07 05:57:54,358 [open_context_base.py] _handle_init_connect:445: InitConnect ok: conn_id=3; info={&#39;server_version&#39;: 216, &#39;login_user_id&#39;: 245840, &#39;conn_id&#39;: 6719591570389173876, &#39;conn_key&#39;: &#39;478AF439B591B0C0&#39;, &#39;conn_iv&#39;: &#39;3DA242212AEB2E30&#39;, &#39;keep_alive_interval&#39;: 10, &#39;is_encrypt&#39;: False};\n2020-10-07 05:57:54,792 [network_manager.py] work:366: Close: conn_id=3\n"
    }
   ]
  },
  {
   "cell_type": "code",
   "execution_count": 5,
   "metadata": {},
   "outputs": [
    {
     "output_type": "execute_result",
     "data": {
      "text/plain": "          code             time_key      open     close      high       low  \\\n0    HK.800000  2018-01-02 00:00:00  30028.29  30515.31  30515.31  30028.29   \n1    HK.800000  2018-01-03 00:00:00  30658.73  30560.95  30724.32  30456.76   \n2    HK.800000  2018-01-04 00:00:00  30691.71  30736.48  30796.93  30560.43   \n3    HK.800000  2018-01-05 00:00:00  30893.86  30814.64  30911.01  30638.53   \n4    HK.800000  2018-01-08 00:00:00  30895.09  30899.53  30929.15  30732.54   \n..         ...                  ...       ...       ...       ...       ...   \n241  HK.800000  2018-12-21 00:00:00  25512.30  25753.42  25805.61  25313.75   \n242  HK.800000  2018-12-24 00:00:00  25515.40  25651.38  25651.38  25421.43   \n243  HK.800000  2018-12-27 00:00:00  25818.81  25478.88  25920.63  25446.80   \n244  HK.800000  2018-12-28 00:00:00  25502.34  25504.20  25600.25  25416.36   \n245  HK.800000  2018-12-31 00:00:00  25732.52  25845.70  25916.23  25682.66   \n\n     pe_ratio  turnover_rate  volume      turnover  change_rate  last_close  \n0         0.0            0.0       0  1.268454e+11     1.621871    29919.15  \n1         0.0            0.0       0  1.308320e+11     0.149564    30515.31  \n2         0.0            0.0       0  1.318360e+11     0.574360    30560.95  \n3         0.0            0.0       0  1.250078e+11     0.254291    30736.48  \n4         0.0            0.0       0  1.337763e+11     0.275486    30814.64  \n..        ...            ...     ...           ...          ...         ...  \n241       0.0            0.0       0  9.120961e+10     0.506917    25623.53  \n242       0.0            0.0       0  3.467863e+10    -0.396219    25753.42  \n243       0.0            0.0       0  5.619719e+10    -0.672478    25651.38  \n244       0.0            0.0       0  4.695883e+10     0.099376    25478.88  \n245       0.0            0.0       0  3.269145e+10     1.338995    25504.20  \n\n[246 rows x 12 columns]",
      "text/html": "<div>\n<style scoped>\n    .dataframe tbody tr th:only-of-type {\n        vertical-align: middle;\n    }\n\n    .dataframe tbody tr th {\n        vertical-align: top;\n    }\n\n    .dataframe thead th {\n        text-align: right;\n    }\n</style>\n<table border=\"1\" class=\"dataframe\">\n  <thead>\n    <tr style=\"text-align: right;\">\n      <th></th>\n      <th>code</th>\n      <th>time_key</th>\n      <th>open</th>\n      <th>close</th>\n      <th>high</th>\n      <th>low</th>\n      <th>pe_ratio</th>\n      <th>turnover_rate</th>\n      <th>volume</th>\n      <th>turnover</th>\n      <th>change_rate</th>\n      <th>last_close</th>\n    </tr>\n  </thead>\n  <tbody>\n    <tr>\n      <th>0</th>\n      <td>HK.800000</td>\n      <td>2018-01-02 00:00:00</td>\n      <td>30028.29</td>\n      <td>30515.31</td>\n      <td>30515.31</td>\n      <td>30028.29</td>\n      <td>0.0</td>\n      <td>0.0</td>\n      <td>0</td>\n      <td>1.268454e+11</td>\n      <td>1.621871</td>\n      <td>29919.15</td>\n    </tr>\n    <tr>\n      <th>1</th>\n      <td>HK.800000</td>\n      <td>2018-01-03 00:00:00</td>\n      <td>30658.73</td>\n      <td>30560.95</td>\n      <td>30724.32</td>\n      <td>30456.76</td>\n      <td>0.0</td>\n      <td>0.0</td>\n      <td>0</td>\n      <td>1.308320e+11</td>\n      <td>0.149564</td>\n      <td>30515.31</td>\n    </tr>\n    <tr>\n      <th>2</th>\n      <td>HK.800000</td>\n      <td>2018-01-04 00:00:00</td>\n      <td>30691.71</td>\n      <td>30736.48</td>\n      <td>30796.93</td>\n      <td>30560.43</td>\n      <td>0.0</td>\n      <td>0.0</td>\n      <td>0</td>\n      <td>1.318360e+11</td>\n      <td>0.574360</td>\n      <td>30560.95</td>\n    </tr>\n    <tr>\n      <th>3</th>\n      <td>HK.800000</td>\n      <td>2018-01-05 00:00:00</td>\n      <td>30893.86</td>\n      <td>30814.64</td>\n      <td>30911.01</td>\n      <td>30638.53</td>\n      <td>0.0</td>\n      <td>0.0</td>\n      <td>0</td>\n      <td>1.250078e+11</td>\n      <td>0.254291</td>\n      <td>30736.48</td>\n    </tr>\n    <tr>\n      <th>4</th>\n      <td>HK.800000</td>\n      <td>2018-01-08 00:00:00</td>\n      <td>30895.09</td>\n      <td>30899.53</td>\n      <td>30929.15</td>\n      <td>30732.54</td>\n      <td>0.0</td>\n      <td>0.0</td>\n      <td>0</td>\n      <td>1.337763e+11</td>\n      <td>0.275486</td>\n      <td>30814.64</td>\n    </tr>\n    <tr>\n      <th>...</th>\n      <td>...</td>\n      <td>...</td>\n      <td>...</td>\n      <td>...</td>\n      <td>...</td>\n      <td>...</td>\n      <td>...</td>\n      <td>...</td>\n      <td>...</td>\n      <td>...</td>\n      <td>...</td>\n      <td>...</td>\n    </tr>\n    <tr>\n      <th>241</th>\n      <td>HK.800000</td>\n      <td>2018-12-21 00:00:00</td>\n      <td>25512.30</td>\n      <td>25753.42</td>\n      <td>25805.61</td>\n      <td>25313.75</td>\n      <td>0.0</td>\n      <td>0.0</td>\n      <td>0</td>\n      <td>9.120961e+10</td>\n      <td>0.506917</td>\n      <td>25623.53</td>\n    </tr>\n    <tr>\n      <th>242</th>\n      <td>HK.800000</td>\n      <td>2018-12-24 00:00:00</td>\n      <td>25515.40</td>\n      <td>25651.38</td>\n      <td>25651.38</td>\n      <td>25421.43</td>\n      <td>0.0</td>\n      <td>0.0</td>\n      <td>0</td>\n      <td>3.467863e+10</td>\n      <td>-0.396219</td>\n      <td>25753.42</td>\n    </tr>\n    <tr>\n      <th>243</th>\n      <td>HK.800000</td>\n      <td>2018-12-27 00:00:00</td>\n      <td>25818.81</td>\n      <td>25478.88</td>\n      <td>25920.63</td>\n      <td>25446.80</td>\n      <td>0.0</td>\n      <td>0.0</td>\n      <td>0</td>\n      <td>5.619719e+10</td>\n      <td>-0.672478</td>\n      <td>25651.38</td>\n    </tr>\n    <tr>\n      <th>244</th>\n      <td>HK.800000</td>\n      <td>2018-12-28 00:00:00</td>\n      <td>25502.34</td>\n      <td>25504.20</td>\n      <td>25600.25</td>\n      <td>25416.36</td>\n      <td>0.0</td>\n      <td>0.0</td>\n      <td>0</td>\n      <td>4.695883e+10</td>\n      <td>0.099376</td>\n      <td>25478.88</td>\n    </tr>\n    <tr>\n      <th>245</th>\n      <td>HK.800000</td>\n      <td>2018-12-31 00:00:00</td>\n      <td>25732.52</td>\n      <td>25845.70</td>\n      <td>25916.23</td>\n      <td>25682.66</td>\n      <td>0.0</td>\n      <td>0.0</td>\n      <td>0</td>\n      <td>3.269145e+10</td>\n      <td>1.338995</td>\n      <td>25504.20</td>\n    </tr>\n  </tbody>\n</table>\n<p>246 rows × 12 columns</p>\n</div>"
     },
     "metadata": {},
     "execution_count": 5
    }
   ],
   "source": [
    "df_stock"
   ]
  },
  {
   "cell_type": "code",
   "execution_count": 8,
   "metadata": {},
   "outputs": [],
   "source": [
    "df_stock.to_csv('HSI.scv')"
   ]
  },
  {
   "cell_type": "code",
   "execution_count": 15,
   "metadata": {},
   "outputs": [],
   "source": [
    "t = df_stock"
   ]
  },
  {
   "cell_type": "code",
   "execution_count": 14,
   "metadata": {},
   "outputs": [],
   "source": [
    "df_stock['date']=pd.to_datetime(df_stock['time_key'])"
   ]
  },
  {
   "cell_type": "code",
   "execution_count": 16,
   "metadata": {},
   "outputs": [
    {
     "output_type": "execute_result",
     "data": {
      "text/plain": "          code             time_key      open     close      high       low  \\\n0    HK.800000  2016-01-04 00:00:00  21782.62  21327.12  21794.84  21227.61   \n1    HK.800000  2016-01-05 00:00:00  21318.69  21188.72  21452.74  21095.90   \n2    HK.800000  2016-01-06 00:00:00  21142.63  20980.81  21199.62  20947.30   \n3    HK.800000  2016-01-07 00:00:00  20772.60  20333.34  20826.44  20323.97   \n4    HK.800000  2016-01-08 00:00:00  20491.88  20453.71  20596.42  20324.62   \n..         ...                  ...       ...       ...       ...       ...   \n995  HK.800000  2020-01-20 00:00:00  29169.12  28795.91  29174.92  28795.42   \n996  HK.800000  2020-01-21 00:00:00  28449.38  27985.33  28492.03  27980.50   \n997  HK.800000  2020-01-22 00:00:00  28116.50  28341.04  28393.93  27937.68   \n998  HK.800000  2020-01-23 00:00:00  28109.75  27909.12  28133.03  27706.37   \n999  HK.800000  2020-01-24 00:00:00  27935.42  27949.64  27977.63  27774.50   \n\n     pe_ratio  turnover_rate  volume      turnover  change_rate  last_close  \\\n0         0.0            0.0       0  7.384408e+10    -2.679882    21914.40   \n1         0.0            0.0       0  7.243521e+10    -0.648939    21327.12   \n2         0.0            0.0       0  7.517537e+10    -0.981230    21188.72   \n3         0.0            0.0       0  1.071997e+11    -3.086011    20980.81   \n4         0.0            0.0       0  8.557016e+10     0.591983    20333.34   \n..        ...            ...     ...           ...          ...         ...   \n995       0.0            0.0       0  1.115991e+11    -0.896566    29056.42   \n996       0.0            0.0       0  1.328403e+11    -2.814914    28795.91   \n997       0.0            0.0       0  1.014927e+11     1.271059    27985.33   \n998       0.0            0.0       0  1.187059e+11    -1.524009    28341.04   \n999       0.0            0.0       0  4.732153e+10     0.145186    27909.12   \n\n          date  \n0   2016-01-04  \n1   2016-01-05  \n2   2016-01-06  \n3   2016-01-07  \n4   2016-01-08  \n..         ...  \n995 2020-01-20  \n996 2020-01-21  \n997 2020-01-22  \n998 2020-01-23  \n999 2020-01-24  \n\n[1000 rows x 13 columns]",
      "text/html": "<div>\n<style scoped>\n    .dataframe tbody tr th:only-of-type {\n        vertical-align: middle;\n    }\n\n    .dataframe tbody tr th {\n        vertical-align: top;\n    }\n\n    .dataframe thead th {\n        text-align: right;\n    }\n</style>\n<table border=\"1\" class=\"dataframe\">\n  <thead>\n    <tr style=\"text-align: right;\">\n      <th></th>\n      <th>code</th>\n      <th>time_key</th>\n      <th>open</th>\n      <th>close</th>\n      <th>high</th>\n      <th>low</th>\n      <th>pe_ratio</th>\n      <th>turnover_rate</th>\n      <th>volume</th>\n      <th>turnover</th>\n      <th>change_rate</th>\n      <th>last_close</th>\n      <th>date</th>\n    </tr>\n  </thead>\n  <tbody>\n    <tr>\n      <th>0</th>\n      <td>HK.800000</td>\n      <td>2016-01-04 00:00:00</td>\n      <td>21782.62</td>\n      <td>21327.12</td>\n      <td>21794.84</td>\n      <td>21227.61</td>\n      <td>0.0</td>\n      <td>0.0</td>\n      <td>0</td>\n      <td>7.384408e+10</td>\n      <td>-2.679882</td>\n      <td>21914.40</td>\n      <td>2016-01-04</td>\n    </tr>\n    <tr>\n      <th>1</th>\n      <td>HK.800000</td>\n      <td>2016-01-05 00:00:00</td>\n      <td>21318.69</td>\n      <td>21188.72</td>\n      <td>21452.74</td>\n      <td>21095.90</td>\n      <td>0.0</td>\n      <td>0.0</td>\n      <td>0</td>\n      <td>7.243521e+10</td>\n      <td>-0.648939</td>\n      <td>21327.12</td>\n      <td>2016-01-05</td>\n    </tr>\n    <tr>\n      <th>2</th>\n      <td>HK.800000</td>\n      <td>2016-01-06 00:00:00</td>\n      <td>21142.63</td>\n      <td>20980.81</td>\n      <td>21199.62</td>\n      <td>20947.30</td>\n      <td>0.0</td>\n      <td>0.0</td>\n      <td>0</td>\n      <td>7.517537e+10</td>\n      <td>-0.981230</td>\n      <td>21188.72</td>\n      <td>2016-01-06</td>\n    </tr>\n    <tr>\n      <th>3</th>\n      <td>HK.800000</td>\n      <td>2016-01-07 00:00:00</td>\n      <td>20772.60</td>\n      <td>20333.34</td>\n      <td>20826.44</td>\n      <td>20323.97</td>\n      <td>0.0</td>\n      <td>0.0</td>\n      <td>0</td>\n      <td>1.071997e+11</td>\n      <td>-3.086011</td>\n      <td>20980.81</td>\n      <td>2016-01-07</td>\n    </tr>\n    <tr>\n      <th>4</th>\n      <td>HK.800000</td>\n      <td>2016-01-08 00:00:00</td>\n      <td>20491.88</td>\n      <td>20453.71</td>\n      <td>20596.42</td>\n      <td>20324.62</td>\n      <td>0.0</td>\n      <td>0.0</td>\n      <td>0</td>\n      <td>8.557016e+10</td>\n      <td>0.591983</td>\n      <td>20333.34</td>\n      <td>2016-01-08</td>\n    </tr>\n    <tr>\n      <th>...</th>\n      <td>...</td>\n      <td>...</td>\n      <td>...</td>\n      <td>...</td>\n      <td>...</td>\n      <td>...</td>\n      <td>...</td>\n      <td>...</td>\n      <td>...</td>\n      <td>...</td>\n      <td>...</td>\n      <td>...</td>\n      <td>...</td>\n    </tr>\n    <tr>\n      <th>995</th>\n      <td>HK.800000</td>\n      <td>2020-01-20 00:00:00</td>\n      <td>29169.12</td>\n      <td>28795.91</td>\n      <td>29174.92</td>\n      <td>28795.42</td>\n      <td>0.0</td>\n      <td>0.0</td>\n      <td>0</td>\n      <td>1.115991e+11</td>\n      <td>-0.896566</td>\n      <td>29056.42</td>\n      <td>2020-01-20</td>\n    </tr>\n    <tr>\n      <th>996</th>\n      <td>HK.800000</td>\n      <td>2020-01-21 00:00:00</td>\n      <td>28449.38</td>\n      <td>27985.33</td>\n      <td>28492.03</td>\n      <td>27980.50</td>\n      <td>0.0</td>\n      <td>0.0</td>\n      <td>0</td>\n      <td>1.328403e+11</td>\n      <td>-2.814914</td>\n      <td>28795.91</td>\n      <td>2020-01-21</td>\n    </tr>\n    <tr>\n      <th>997</th>\n      <td>HK.800000</td>\n      <td>2020-01-22 00:00:00</td>\n      <td>28116.50</td>\n      <td>28341.04</td>\n      <td>28393.93</td>\n      <td>27937.68</td>\n      <td>0.0</td>\n      <td>0.0</td>\n      <td>0</td>\n      <td>1.014927e+11</td>\n      <td>1.271059</td>\n      <td>27985.33</td>\n      <td>2020-01-22</td>\n    </tr>\n    <tr>\n      <th>998</th>\n      <td>HK.800000</td>\n      <td>2020-01-23 00:00:00</td>\n      <td>28109.75</td>\n      <td>27909.12</td>\n      <td>28133.03</td>\n      <td>27706.37</td>\n      <td>0.0</td>\n      <td>0.0</td>\n      <td>0</td>\n      <td>1.187059e+11</td>\n      <td>-1.524009</td>\n      <td>28341.04</td>\n      <td>2020-01-23</td>\n    </tr>\n    <tr>\n      <th>999</th>\n      <td>HK.800000</td>\n      <td>2020-01-24 00:00:00</td>\n      <td>27935.42</td>\n      <td>27949.64</td>\n      <td>27977.63</td>\n      <td>27774.50</td>\n      <td>0.0</td>\n      <td>0.0</td>\n      <td>0</td>\n      <td>4.732153e+10</td>\n      <td>0.145186</td>\n      <td>27909.12</td>\n      <td>2020-01-24</td>\n    </tr>\n  </tbody>\n</table>\n<p>1000 rows × 13 columns</p>\n</div>"
     },
     "metadata": {},
     "execution_count": 16
    }
   ],
   "source": [
    "df_stock"
   ]
  },
  {
   "cell_type": "code",
   "execution_count": 17,
   "metadata": {},
   "outputs": [],
   "source": [
    "df_stock=df_stock.set_index('date',drop=True)"
   ]
  },
  {
   "cell_type": "code",
   "execution_count": 19,
   "metadata": {},
   "outputs": [],
   "source": [
    "df_stock.to_csv('HSI.scv')"
   ]
  },
  {
   "cell_type": "code",
   "execution_count": 22,
   "metadata": {},
   "outputs": [],
   "source": [
    "t=pd.read_csv('HSI.scv',index_col='date')"
   ]
  },
  {
   "cell_type": "code",
   "execution_count": 21,
   "metadata": {},
   "outputs": [
    {
     "output_type": "execute_result",
     "data": {
      "text/plain": "           date       code             time_key      open     close      high  \\\n0    2016-01-04  HK.800000  2016-01-04 00:00:00  21782.62  21327.12  21794.84   \n1    2016-01-05  HK.800000  2016-01-05 00:00:00  21318.69  21188.72  21452.74   \n2    2016-01-06  HK.800000  2016-01-06 00:00:00  21142.63  20980.81  21199.62   \n3    2016-01-07  HK.800000  2016-01-07 00:00:00  20772.60  20333.34  20826.44   \n4    2016-01-08  HK.800000  2016-01-08 00:00:00  20491.88  20453.71  20596.42   \n..          ...        ...                  ...       ...       ...       ...   \n995  2020-01-20  HK.800000  2020-01-20 00:00:00  29169.12  28795.91  29174.92   \n996  2020-01-21  HK.800000  2020-01-21 00:00:00  28449.38  27985.33  28492.03   \n997  2020-01-22  HK.800000  2020-01-22 00:00:00  28116.50  28341.04  28393.93   \n998  2020-01-23  HK.800000  2020-01-23 00:00:00  28109.75  27909.12  28133.03   \n999  2020-01-24  HK.800000  2020-01-24 00:00:00  27935.42  27949.64  27977.63   \n\n          low  pe_ratio  turnover_rate  volume      turnover  change_rate  \\\n0    21227.61       0.0            0.0       0  7.384408e+10    -2.679882   \n1    21095.90       0.0            0.0       0  7.243521e+10    -0.648939   \n2    20947.30       0.0            0.0       0  7.517537e+10    -0.981230   \n3    20323.97       0.0            0.0       0  1.071997e+11    -3.086011   \n4    20324.62       0.0            0.0       0  8.557016e+10     0.591983   \n..        ...       ...            ...     ...           ...          ...   \n995  28795.42       0.0            0.0       0  1.115991e+11    -0.896566   \n996  27980.50       0.0            0.0       0  1.328403e+11    -2.814914   \n997  27937.68       0.0            0.0       0  1.014927e+11     1.271059   \n998  27706.37       0.0            0.0       0  1.187059e+11    -1.524009   \n999  27774.50       0.0            0.0       0  4.732153e+10     0.145186   \n\n     last_close  \n0      21914.40  \n1      21327.12  \n2      21188.72  \n3      20980.81  \n4      20333.34  \n..          ...  \n995    29056.42  \n996    28795.91  \n997    27985.33  \n998    28341.04  \n999    27909.12  \n\n[1000 rows x 13 columns]",
      "text/html": "<div>\n<style scoped>\n    .dataframe tbody tr th:only-of-type {\n        vertical-align: middle;\n    }\n\n    .dataframe tbody tr th {\n        vertical-align: top;\n    }\n\n    .dataframe thead th {\n        text-align: right;\n    }\n</style>\n<table border=\"1\" class=\"dataframe\">\n  <thead>\n    <tr style=\"text-align: right;\">\n      <th></th>\n      <th>date</th>\n      <th>code</th>\n      <th>time_key</th>\n      <th>open</th>\n      <th>close</th>\n      <th>high</th>\n      <th>low</th>\n      <th>pe_ratio</th>\n      <th>turnover_rate</th>\n      <th>volume</th>\n      <th>turnover</th>\n      <th>change_rate</th>\n      <th>last_close</th>\n    </tr>\n  </thead>\n  <tbody>\n    <tr>\n      <th>0</th>\n      <td>2016-01-04</td>\n      <td>HK.800000</td>\n      <td>2016-01-04 00:00:00</td>\n      <td>21782.62</td>\n      <td>21327.12</td>\n      <td>21794.84</td>\n      <td>21227.61</td>\n      <td>0.0</td>\n      <td>0.0</td>\n      <td>0</td>\n      <td>7.384408e+10</td>\n      <td>-2.679882</td>\n      <td>21914.40</td>\n    </tr>\n    <tr>\n      <th>1</th>\n      <td>2016-01-05</td>\n      <td>HK.800000</td>\n      <td>2016-01-05 00:00:00</td>\n      <td>21318.69</td>\n      <td>21188.72</td>\n      <td>21452.74</td>\n      <td>21095.90</td>\n      <td>0.0</td>\n      <td>0.0</td>\n      <td>0</td>\n      <td>7.243521e+10</td>\n      <td>-0.648939</td>\n      <td>21327.12</td>\n    </tr>\n    <tr>\n      <th>2</th>\n      <td>2016-01-06</td>\n      <td>HK.800000</td>\n      <td>2016-01-06 00:00:00</td>\n      <td>21142.63</td>\n      <td>20980.81</td>\n      <td>21199.62</td>\n      <td>20947.30</td>\n      <td>0.0</td>\n      <td>0.0</td>\n      <td>0</td>\n      <td>7.517537e+10</td>\n      <td>-0.981230</td>\n      <td>21188.72</td>\n    </tr>\n    <tr>\n      <th>3</th>\n      <td>2016-01-07</td>\n      <td>HK.800000</td>\n      <td>2016-01-07 00:00:00</td>\n      <td>20772.60</td>\n      <td>20333.34</td>\n      <td>20826.44</td>\n      <td>20323.97</td>\n      <td>0.0</td>\n      <td>0.0</td>\n      <td>0</td>\n      <td>1.071997e+11</td>\n      <td>-3.086011</td>\n      <td>20980.81</td>\n    </tr>\n    <tr>\n      <th>4</th>\n      <td>2016-01-08</td>\n      <td>HK.800000</td>\n      <td>2016-01-08 00:00:00</td>\n      <td>20491.88</td>\n      <td>20453.71</td>\n      <td>20596.42</td>\n      <td>20324.62</td>\n      <td>0.0</td>\n      <td>0.0</td>\n      <td>0</td>\n      <td>8.557016e+10</td>\n      <td>0.591983</td>\n      <td>20333.34</td>\n    </tr>\n    <tr>\n      <th>...</th>\n      <td>...</td>\n      <td>...</td>\n      <td>...</td>\n      <td>...</td>\n      <td>...</td>\n      <td>...</td>\n      <td>...</td>\n      <td>...</td>\n      <td>...</td>\n      <td>...</td>\n      <td>...</td>\n      <td>...</td>\n      <td>...</td>\n    </tr>\n    <tr>\n      <th>995</th>\n      <td>2020-01-20</td>\n      <td>HK.800000</td>\n      <td>2020-01-20 00:00:00</td>\n      <td>29169.12</td>\n      <td>28795.91</td>\n      <td>29174.92</td>\n      <td>28795.42</td>\n      <td>0.0</td>\n      <td>0.0</td>\n      <td>0</td>\n      <td>1.115991e+11</td>\n      <td>-0.896566</td>\n      <td>29056.42</td>\n    </tr>\n    <tr>\n      <th>996</th>\n      <td>2020-01-21</td>\n      <td>HK.800000</td>\n      <td>2020-01-21 00:00:00</td>\n      <td>28449.38</td>\n      <td>27985.33</td>\n      <td>28492.03</td>\n      <td>27980.50</td>\n      <td>0.0</td>\n      <td>0.0</td>\n      <td>0</td>\n      <td>1.328403e+11</td>\n      <td>-2.814914</td>\n      <td>28795.91</td>\n    </tr>\n    <tr>\n      <th>997</th>\n      <td>2020-01-22</td>\n      <td>HK.800000</td>\n      <td>2020-01-22 00:00:00</td>\n      <td>28116.50</td>\n      <td>28341.04</td>\n      <td>28393.93</td>\n      <td>27937.68</td>\n      <td>0.0</td>\n      <td>0.0</td>\n      <td>0</td>\n      <td>1.014927e+11</td>\n      <td>1.271059</td>\n      <td>27985.33</td>\n    </tr>\n    <tr>\n      <th>998</th>\n      <td>2020-01-23</td>\n      <td>HK.800000</td>\n      <td>2020-01-23 00:00:00</td>\n      <td>28109.75</td>\n      <td>27909.12</td>\n      <td>28133.03</td>\n      <td>27706.37</td>\n      <td>0.0</td>\n      <td>0.0</td>\n      <td>0</td>\n      <td>1.187059e+11</td>\n      <td>-1.524009</td>\n      <td>28341.04</td>\n    </tr>\n    <tr>\n      <th>999</th>\n      <td>2020-01-24</td>\n      <td>HK.800000</td>\n      <td>2020-01-24 00:00:00</td>\n      <td>27935.42</td>\n      <td>27949.64</td>\n      <td>27977.63</td>\n      <td>27774.50</td>\n      <td>0.0</td>\n      <td>0.0</td>\n      <td>0</td>\n      <td>4.732153e+10</td>\n      <td>0.145186</td>\n      <td>27909.12</td>\n    </tr>\n  </tbody>\n</table>\n<p>1000 rows × 13 columns</p>\n</div>"
     },
     "metadata": {},
     "execution_count": 21
    }
   ],
   "source": []
  },
  {
   "cell_type": "code",
   "execution_count": 23,
   "metadata": {},
   "outputs": [
    {
     "output_type": "execute_result",
     "data": {
      "text/plain": "                 code             time_key      open     close      high  \\\ndate                                                                       \n2016-01-04  HK.800000  2016-01-04 00:00:00  21782.62  21327.12  21794.84   \n2016-01-05  HK.800000  2016-01-05 00:00:00  21318.69  21188.72  21452.74   \n2016-01-06  HK.800000  2016-01-06 00:00:00  21142.63  20980.81  21199.62   \n2016-01-07  HK.800000  2016-01-07 00:00:00  20772.60  20333.34  20826.44   \n2016-01-08  HK.800000  2016-01-08 00:00:00  20491.88  20453.71  20596.42   \n...               ...                  ...       ...       ...       ...   \n2020-01-20  HK.800000  2020-01-20 00:00:00  29169.12  28795.91  29174.92   \n2020-01-21  HK.800000  2020-01-21 00:00:00  28449.38  27985.33  28492.03   \n2020-01-22  HK.800000  2020-01-22 00:00:00  28116.50  28341.04  28393.93   \n2020-01-23  HK.800000  2020-01-23 00:00:00  28109.75  27909.12  28133.03   \n2020-01-24  HK.800000  2020-01-24 00:00:00  27935.42  27949.64  27977.63   \n\n                 low  pe_ratio  turnover_rate  volume      turnover  \\\ndate                                                                  \n2016-01-04  21227.61       0.0            0.0       0  7.384408e+10   \n2016-01-05  21095.90       0.0            0.0       0  7.243521e+10   \n2016-01-06  20947.30       0.0            0.0       0  7.517537e+10   \n2016-01-07  20323.97       0.0            0.0       0  1.071997e+11   \n2016-01-08  20324.62       0.0            0.0       0  8.557016e+10   \n...              ...       ...            ...     ...           ...   \n2020-01-20  28795.42       0.0            0.0       0  1.115991e+11   \n2020-01-21  27980.50       0.0            0.0       0  1.328403e+11   \n2020-01-22  27937.68       0.0            0.0       0  1.014927e+11   \n2020-01-23  27706.37       0.0            0.0       0  1.187059e+11   \n2020-01-24  27774.50       0.0            0.0       0  4.732153e+10   \n\n            change_rate  last_close  \ndate                                 \n2016-01-04    -2.679882    21914.40  \n2016-01-05    -0.648939    21327.12  \n2016-01-06    -0.981230    21188.72  \n2016-01-07    -3.086011    20980.81  \n2016-01-08     0.591983    20333.34  \n...                 ...         ...  \n2020-01-20    -0.896566    29056.42  \n2020-01-21    -2.814914    28795.91  \n2020-01-22     1.271059    27985.33  \n2020-01-23    -1.524009    28341.04  \n2020-01-24     0.145186    27909.12  \n\n[1000 rows x 12 columns]",
      "text/html": "<div>\n<style scoped>\n    .dataframe tbody tr th:only-of-type {\n        vertical-align: middle;\n    }\n\n    .dataframe tbody tr th {\n        vertical-align: top;\n    }\n\n    .dataframe thead th {\n        text-align: right;\n    }\n</style>\n<table border=\"1\" class=\"dataframe\">\n  <thead>\n    <tr style=\"text-align: right;\">\n      <th></th>\n      <th>code</th>\n      <th>time_key</th>\n      <th>open</th>\n      <th>close</th>\n      <th>high</th>\n      <th>low</th>\n      <th>pe_ratio</th>\n      <th>turnover_rate</th>\n      <th>volume</th>\n      <th>turnover</th>\n      <th>change_rate</th>\n      <th>last_close</th>\n    </tr>\n    <tr>\n      <th>date</th>\n      <th></th>\n      <th></th>\n      <th></th>\n      <th></th>\n      <th></th>\n      <th></th>\n      <th></th>\n      <th></th>\n      <th></th>\n      <th></th>\n      <th></th>\n      <th></th>\n    </tr>\n  </thead>\n  <tbody>\n    <tr>\n      <th>2016-01-04</th>\n      <td>HK.800000</td>\n      <td>2016-01-04 00:00:00</td>\n      <td>21782.62</td>\n      <td>21327.12</td>\n      <td>21794.84</td>\n      <td>21227.61</td>\n      <td>0.0</td>\n      <td>0.0</td>\n      <td>0</td>\n      <td>7.384408e+10</td>\n      <td>-2.679882</td>\n      <td>21914.40</td>\n    </tr>\n    <tr>\n      <th>2016-01-05</th>\n      <td>HK.800000</td>\n      <td>2016-01-05 00:00:00</td>\n      <td>21318.69</td>\n      <td>21188.72</td>\n      <td>21452.74</td>\n      <td>21095.90</td>\n      <td>0.0</td>\n      <td>0.0</td>\n      <td>0</td>\n      <td>7.243521e+10</td>\n      <td>-0.648939</td>\n      <td>21327.12</td>\n    </tr>\n    <tr>\n      <th>2016-01-06</th>\n      <td>HK.800000</td>\n      <td>2016-01-06 00:00:00</td>\n      <td>21142.63</td>\n      <td>20980.81</td>\n      <td>21199.62</td>\n      <td>20947.30</td>\n      <td>0.0</td>\n      <td>0.0</td>\n      <td>0</td>\n      <td>7.517537e+10</td>\n      <td>-0.981230</td>\n      <td>21188.72</td>\n    </tr>\n    <tr>\n      <th>2016-01-07</th>\n      <td>HK.800000</td>\n      <td>2016-01-07 00:00:00</td>\n      <td>20772.60</td>\n      <td>20333.34</td>\n      <td>20826.44</td>\n      <td>20323.97</td>\n      <td>0.0</td>\n      <td>0.0</td>\n      <td>0</td>\n      <td>1.071997e+11</td>\n      <td>-3.086011</td>\n      <td>20980.81</td>\n    </tr>\n    <tr>\n      <th>2016-01-08</th>\n      <td>HK.800000</td>\n      <td>2016-01-08 00:00:00</td>\n      <td>20491.88</td>\n      <td>20453.71</td>\n      <td>20596.42</td>\n      <td>20324.62</td>\n      <td>0.0</td>\n      <td>0.0</td>\n      <td>0</td>\n      <td>8.557016e+10</td>\n      <td>0.591983</td>\n      <td>20333.34</td>\n    </tr>\n    <tr>\n      <th>...</th>\n      <td>...</td>\n      <td>...</td>\n      <td>...</td>\n      <td>...</td>\n      <td>...</td>\n      <td>...</td>\n      <td>...</td>\n      <td>...</td>\n      <td>...</td>\n      <td>...</td>\n      <td>...</td>\n      <td>...</td>\n    </tr>\n    <tr>\n      <th>2020-01-20</th>\n      <td>HK.800000</td>\n      <td>2020-01-20 00:00:00</td>\n      <td>29169.12</td>\n      <td>28795.91</td>\n      <td>29174.92</td>\n      <td>28795.42</td>\n      <td>0.0</td>\n      <td>0.0</td>\n      <td>0</td>\n      <td>1.115991e+11</td>\n      <td>-0.896566</td>\n      <td>29056.42</td>\n    </tr>\n    <tr>\n      <th>2020-01-21</th>\n      <td>HK.800000</td>\n      <td>2020-01-21 00:00:00</td>\n      <td>28449.38</td>\n      <td>27985.33</td>\n      <td>28492.03</td>\n      <td>27980.50</td>\n      <td>0.0</td>\n      <td>0.0</td>\n      <td>0</td>\n      <td>1.328403e+11</td>\n      <td>-2.814914</td>\n      <td>28795.91</td>\n    </tr>\n    <tr>\n      <th>2020-01-22</th>\n      <td>HK.800000</td>\n      <td>2020-01-22 00:00:00</td>\n      <td>28116.50</td>\n      <td>28341.04</td>\n      <td>28393.93</td>\n      <td>27937.68</td>\n      <td>0.0</td>\n      <td>0.0</td>\n      <td>0</td>\n      <td>1.014927e+11</td>\n      <td>1.271059</td>\n      <td>27985.33</td>\n    </tr>\n    <tr>\n      <th>2020-01-23</th>\n      <td>HK.800000</td>\n      <td>2020-01-23 00:00:00</td>\n      <td>28109.75</td>\n      <td>27909.12</td>\n      <td>28133.03</td>\n      <td>27706.37</td>\n      <td>0.0</td>\n      <td>0.0</td>\n      <td>0</td>\n      <td>1.187059e+11</td>\n      <td>-1.524009</td>\n      <td>28341.04</td>\n    </tr>\n    <tr>\n      <th>2020-01-24</th>\n      <td>HK.800000</td>\n      <td>2020-01-24 00:00:00</td>\n      <td>27935.42</td>\n      <td>27949.64</td>\n      <td>27977.63</td>\n      <td>27774.50</td>\n      <td>0.0</td>\n      <td>0.0</td>\n      <td>0</td>\n      <td>4.732153e+10</td>\n      <td>0.145186</td>\n      <td>27909.12</td>\n    </tr>\n  </tbody>\n</table>\n<p>1000 rows × 12 columns</p>\n</div>"
     },
     "metadata": {},
     "execution_count": 23
    }
   ],
   "source": [
    "t"
   ]
  },
  {
   "cell_type": "code",
   "execution_count": null,
   "metadata": {},
   "outputs": [],
   "source": []
  }
 ]
}